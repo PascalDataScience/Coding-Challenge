{
 "cells": [
  {
   "cell_type": "markdown",
   "metadata": {},
   "source": [
    "# Data Scientist Take-home Challenge\n"
   ]
  },
  {
   "cell_type": "markdown",
   "metadata": {},
   "source": [
    "This document contains list of the tasks we would like you to complete in order to evaluate fully your technical abilities. However, if by some reason you cannot get all results in full, don’t worry. The purpose of this exercise is not to get exact numbers, but to understand how you would approach similar assignments, what would be your way of thinking and how you would advise your Client at the end.\n",
    "\n",
    "\n",
    "You are to work in three separate tasks. Each requires some data handling, modelling and visualizations. We would like to get following outputs from your side:\n",
    "\n",
    "- All the pseudo-code / code from your software of preference. Please don’t forget to include notes and comments within.\n",
    "- Numerical outputs of the final models and statistical calculations (if applicable for the specific task)\n",
    "- Any visualizations of the data you consider useful to support your work (interactive charts would be considered as an advantage)\n"
   ]
  },
  {
   "cell_type": "markdown",
   "metadata": {},
   "source": [
    "## Task 1 - Basic Data Handling and Presentation"
   ]
  },
  {
   "cell_type": "markdown",
   "metadata": {},
   "source": [
    "You are provided with a small subset of data in `data_task1.csv` on in-store purchases by a leading chain of supermarkets. You are required to provide your input on the following questions:\n",
    "\n",
    "- First, please identify and visualize which store has the highest turnover within the available time period.\n",
    "\n",
    "- Second, please identify and present in sensible and convenient manner which combination of 3 items is the most frequently appearing in a single transaction (a transaction is indicated by bon_id_int).\n",
    "\n",
    "- Third, please compute whether buying item with d_global_item_id = 115677 makes it more probable to also buy item 84872, please write your arguments, as well."
   ]
  },
  {
   "cell_type": "code",
   "execution_count": 1,
   "outputs": [],
   "source": [
    "### import libs\n",
    "import pandas as pd\n",
    "from numpy import load\n",
    "import os\n",
    "import numpy as np\n",
    "from tensorflow.keras.preprocessing.image import ImageDataGenerator\n",
    "from tensorflow.keras.applications import MobileNetV2\n",
    "from tensorflow.keras.layers import AveragePooling2D\n",
    "from tensorflow.keras.layers import Dropout\n",
    "from tensorflow.keras.layers import Flatten\n",
    "from tensorflow.keras.layers import Dense\n",
    "from tensorflow.keras.layers import Input\n",
    "from tensorflow.keras.models import Model\n",
    "from tensorflow.keras.optimizers import Adam\n",
    "import tensorflow.keras as keras\n",
    "from tensorflow.keras.applications.mobilenet_v2 import preprocess_input\n",
    "from tensorflow.keras.preprocessing.image import img_to_array\n",
    "from tensorflow.keras.preprocessing.image import load_img\n",
    "from tensorflow.keras.utils import to_categorical\n",
    "from sklearn.preprocessing import LabelBinarizer, LabelEncoder\n",
    "from sklearn.model_selection import train_test_split\n",
    "from sklearn.metrics import classification_report\n",
    "from imutils import paths\n",
    "import matplotlib.pyplot as plt\n",
    "import cv2\n",
    "import numpy as np\n",
    "import os\n",
    "from tensorflow.math import confusion_matrix\n",
    "from datetime import datetime"
   ],
   "metadata": {
    "collapsed": false,
    "pycharm": {
     "name": "#%%\n"
    }
   }
  },
  {
   "cell_type": "markdown",
   "source": [
    "### set project basepath"
   ],
   "metadata": {
    "collapsed": false,
    "pycharm": {
     "name": "#%% md\n"
    }
   }
  },
  {
   "cell_type": "code",
   "execution_count": 3,
   "outputs": [],
   "source": [
    "basepath = r\"C:\\Users\\pascs\\OneDrive\\Desktop\\Coding_Challenge\""
   ],
   "metadata": {
    "collapsed": false,
    "pycharm": {
     "name": "#%%\n"
    }
   }
  },
  {
   "cell_type": "markdown",
   "source": [
    "### read csvs"
   ],
   "metadata": {
    "collapsed": false,
    "pycharm": {
     "name": "#%% md\n"
    }
   }
  },
  {
   "cell_type": "code",
   "execution_count": 20,
   "outputs": [
    {
     "data": {
      "text/plain": "       d_date_id  d_time_id  d_store_id  d_loyalty_instrument_id  d_item_id  \\\n0       20140901         15           5                        1          1   \n1       20140901         15           9                        1          1   \n2       20140901         15           9                        1          1   \n3       20140901         15           9                        1          1   \n4       20140901         15           9                        1          1   \n...          ...        ...         ...                      ...        ...   \n99995   20140907         42           2                        1          1   \n99996   20140907         42           2                        1          1   \n99997   20140907         42           2                        1          1   \n99998   20140907         42           2                        1          1   \n99999   20140907         42           2                        1          1   \n\n       d_global_item_id  d_person_id  d_promotion_id  d_currency_id  \\\n0                  8320            1               1              3   \n1                     1            1               1              3   \n2                  1113            1               1              3   \n3                  3336            1               1              3   \n4                 11707            1               1              3   \n...                 ...          ...             ...            ...   \n99995             59833            1               1              3   \n99996             59838            1               1              3   \n99997             77672            1               1              3   \n99998             78760            1               1              3   \n99999             80999            1               1              3   \n\n       d_item_group_id  ... items_count  card_items_count  card_quantity  \\\n0                    0  ...           1                 0            0.0   \n1                    0  ...           1                 0            0.0   \n2                    0  ...           1                 0            0.0   \n3                    0  ...           1                 0            0.0   \n4                    0  ...           1                 0            0.0   \n...                ...  ...         ...               ...            ...   \n99995                0  ...           1                 0            0.0   \n99996                0  ...           1                 0            0.0   \n99997                0  ...           2                 0            0.0   \n99998                0  ...           1                 0            0.0   \n99999                0  ...           1                 0            0.0   \n\n       card_sales_amount  card_discount_amount  promotion_items_count  \\\n0                    0.0                   0.0                      0   \n1                    0.0                   0.0                      0   \n2                    0.0                   0.0                      0   \n3                    0.0                   0.0                      0   \n4                    0.0                   0.0                      0   \n...                  ...                   ...                    ...   \n99995                0.0                   0.0                      0   \n99996                0.0                   0.0                      0   \n99997                0.0                   0.0                      0   \n99998                0.0                   0.0                      0   \n99999                0.0                   0.0                      0   \n\n       promotion_quantity  promotion_sales_amount  promotion_discount_amount  \\\n0                       0                       0                          0   \n1                       0                       0                          0   \n2                       0                       0                          0   \n3                       0                       0                          0   \n4                       0                       0                          0   \n...                   ...                     ...                        ...   \n99995                   0                       0                          0   \n99996                   0                       0                          0   \n99997                   0                       0                          0   \n99998                   0                       0                          0   \n99999                   0                       0                          0   \n\n        price_w  \n0      0.505051  \n1      1.707071  \n2      2.727270  \n3      3.535354  \n4      0.959596  \n...         ...  \n99995  0.555556  \n99996  0.898990  \n99997  9.393940  \n99998  1.202020  \n99999  2.818182  \n\n[100000 rows x 30 columns]",
      "text/html": "<div>\n<style scoped>\n    .dataframe tbody tr th:only-of-type {\n        vertical-align: middle;\n    }\n\n    .dataframe tbody tr th {\n        vertical-align: top;\n    }\n\n    .dataframe thead th {\n        text-align: right;\n    }\n</style>\n<table border=\"1\" class=\"dataframe\">\n  <thead>\n    <tr style=\"text-align: right;\">\n      <th></th>\n      <th>d_date_id</th>\n      <th>d_time_id</th>\n      <th>d_store_id</th>\n      <th>d_loyalty_instrument_id</th>\n      <th>d_item_id</th>\n      <th>d_global_item_id</th>\n      <th>d_person_id</th>\n      <th>d_promotion_id</th>\n      <th>d_currency_id</th>\n      <th>d_item_group_id</th>\n      <th>...</th>\n      <th>items_count</th>\n      <th>card_items_count</th>\n      <th>card_quantity</th>\n      <th>card_sales_amount</th>\n      <th>card_discount_amount</th>\n      <th>promotion_items_count</th>\n      <th>promotion_quantity</th>\n      <th>promotion_sales_amount</th>\n      <th>promotion_discount_amount</th>\n      <th>price_w</th>\n    </tr>\n  </thead>\n  <tbody>\n    <tr>\n      <th>0</th>\n      <td>20140901</td>\n      <td>15</td>\n      <td>5</td>\n      <td>1</td>\n      <td>1</td>\n      <td>8320</td>\n      <td>1</td>\n      <td>1</td>\n      <td>3</td>\n      <td>0</td>\n      <td>...</td>\n      <td>1</td>\n      <td>0</td>\n      <td>0.0</td>\n      <td>0.0</td>\n      <td>0.0</td>\n      <td>0</td>\n      <td>0</td>\n      <td>0</td>\n      <td>0</td>\n      <td>0.505051</td>\n    </tr>\n    <tr>\n      <th>1</th>\n      <td>20140901</td>\n      <td>15</td>\n      <td>9</td>\n      <td>1</td>\n      <td>1</td>\n      <td>1</td>\n      <td>1</td>\n      <td>1</td>\n      <td>3</td>\n      <td>0</td>\n      <td>...</td>\n      <td>1</td>\n      <td>0</td>\n      <td>0.0</td>\n      <td>0.0</td>\n      <td>0.0</td>\n      <td>0</td>\n      <td>0</td>\n      <td>0</td>\n      <td>0</td>\n      <td>1.707071</td>\n    </tr>\n    <tr>\n      <th>2</th>\n      <td>20140901</td>\n      <td>15</td>\n      <td>9</td>\n      <td>1</td>\n      <td>1</td>\n      <td>1113</td>\n      <td>1</td>\n      <td>1</td>\n      <td>3</td>\n      <td>0</td>\n      <td>...</td>\n      <td>1</td>\n      <td>0</td>\n      <td>0.0</td>\n      <td>0.0</td>\n      <td>0.0</td>\n      <td>0</td>\n      <td>0</td>\n      <td>0</td>\n      <td>0</td>\n      <td>2.727270</td>\n    </tr>\n    <tr>\n      <th>3</th>\n      <td>20140901</td>\n      <td>15</td>\n      <td>9</td>\n      <td>1</td>\n      <td>1</td>\n      <td>3336</td>\n      <td>1</td>\n      <td>1</td>\n      <td>3</td>\n      <td>0</td>\n      <td>...</td>\n      <td>1</td>\n      <td>0</td>\n      <td>0.0</td>\n      <td>0.0</td>\n      <td>0.0</td>\n      <td>0</td>\n      <td>0</td>\n      <td>0</td>\n      <td>0</td>\n      <td>3.535354</td>\n    </tr>\n    <tr>\n      <th>4</th>\n      <td>20140901</td>\n      <td>15</td>\n      <td>9</td>\n      <td>1</td>\n      <td>1</td>\n      <td>11707</td>\n      <td>1</td>\n      <td>1</td>\n      <td>3</td>\n      <td>0</td>\n      <td>...</td>\n      <td>1</td>\n      <td>0</td>\n      <td>0.0</td>\n      <td>0.0</td>\n      <td>0.0</td>\n      <td>0</td>\n      <td>0</td>\n      <td>0</td>\n      <td>0</td>\n      <td>0.959596</td>\n    </tr>\n    <tr>\n      <th>...</th>\n      <td>...</td>\n      <td>...</td>\n      <td>...</td>\n      <td>...</td>\n      <td>...</td>\n      <td>...</td>\n      <td>...</td>\n      <td>...</td>\n      <td>...</td>\n      <td>...</td>\n      <td>...</td>\n      <td>...</td>\n      <td>...</td>\n      <td>...</td>\n      <td>...</td>\n      <td>...</td>\n      <td>...</td>\n      <td>...</td>\n      <td>...</td>\n      <td>...</td>\n      <td>...</td>\n    </tr>\n    <tr>\n      <th>99995</th>\n      <td>20140907</td>\n      <td>42</td>\n      <td>2</td>\n      <td>1</td>\n      <td>1</td>\n      <td>59833</td>\n      <td>1</td>\n      <td>1</td>\n      <td>3</td>\n      <td>0</td>\n      <td>...</td>\n      <td>1</td>\n      <td>0</td>\n      <td>0.0</td>\n      <td>0.0</td>\n      <td>0.0</td>\n      <td>0</td>\n      <td>0</td>\n      <td>0</td>\n      <td>0</td>\n      <td>0.555556</td>\n    </tr>\n    <tr>\n      <th>99996</th>\n      <td>20140907</td>\n      <td>42</td>\n      <td>2</td>\n      <td>1</td>\n      <td>1</td>\n      <td>59838</td>\n      <td>1</td>\n      <td>1</td>\n      <td>3</td>\n      <td>0</td>\n      <td>...</td>\n      <td>1</td>\n      <td>0</td>\n      <td>0.0</td>\n      <td>0.0</td>\n      <td>0.0</td>\n      <td>0</td>\n      <td>0</td>\n      <td>0</td>\n      <td>0</td>\n      <td>0.898990</td>\n    </tr>\n    <tr>\n      <th>99997</th>\n      <td>20140907</td>\n      <td>42</td>\n      <td>2</td>\n      <td>1</td>\n      <td>1</td>\n      <td>77672</td>\n      <td>1</td>\n      <td>1</td>\n      <td>3</td>\n      <td>0</td>\n      <td>...</td>\n      <td>2</td>\n      <td>0</td>\n      <td>0.0</td>\n      <td>0.0</td>\n      <td>0.0</td>\n      <td>0</td>\n      <td>0</td>\n      <td>0</td>\n      <td>0</td>\n      <td>9.393940</td>\n    </tr>\n    <tr>\n      <th>99998</th>\n      <td>20140907</td>\n      <td>42</td>\n      <td>2</td>\n      <td>1</td>\n      <td>1</td>\n      <td>78760</td>\n      <td>1</td>\n      <td>1</td>\n      <td>3</td>\n      <td>0</td>\n      <td>...</td>\n      <td>1</td>\n      <td>0</td>\n      <td>0.0</td>\n      <td>0.0</td>\n      <td>0.0</td>\n      <td>0</td>\n      <td>0</td>\n      <td>0</td>\n      <td>0</td>\n      <td>1.202020</td>\n    </tr>\n    <tr>\n      <th>99999</th>\n      <td>20140907</td>\n      <td>42</td>\n      <td>2</td>\n      <td>1</td>\n      <td>1</td>\n      <td>80999</td>\n      <td>1</td>\n      <td>1</td>\n      <td>3</td>\n      <td>0</td>\n      <td>...</td>\n      <td>1</td>\n      <td>0</td>\n      <td>0.0</td>\n      <td>0.0</td>\n      <td>0.0</td>\n      <td>0</td>\n      <td>0</td>\n      <td>0</td>\n      <td>0</td>\n      <td>2.818182</td>\n    </tr>\n  </tbody>\n</table>\n<p>100000 rows × 30 columns</p>\n</div>"
     },
     "execution_count": 20,
     "metadata": {},
     "output_type": "execute_result"
    }
   ],
   "source": [
    "df_task1 = pd.read_csv(os.path.join(basepath, \"Medium\", \"Data\", \"data_task1.csv\"), sep=\",\")\n",
    "df_task1"
   ],
   "metadata": {
    "collapsed": false,
    "pycharm": {
     "name": "#%%\n"
    }
   }
  },
  {
   "cell_type": "markdown",
   "source": [
    "### First, please identify and visualize which store has the highest turnover within the available time period."
   ],
   "metadata": {
    "collapsed": false,
    "pycharm": {
     "name": "#%% md\n"
    }
   }
  },
  {
   "cell_type": "code",
   "execution_count": 6,
   "outputs": [
    {
     "data": {
      "text/plain": "               d_date_id  d_time_id  d_loyalty_instrument_id  d_item_id  \\\nd_store_id                                                                \n1           827952299750    1391057                    41254      41108   \n2           512928413453     849323                    26738      25467   \n3            63826524242     100779                     3367       3169   \n4            35327144938      54913                     2069       1754   \n5            35991794959      57290                     1787       1787   \n7            58529466819      93661                     3029       2906   \n8            27089516059      43346                     1345       1345   \n9            47331123671      76085                     2670       2350   \n10           88559554380     138748                     5261       4397   \n11           49063240772      77053                     2436       2436   \n12           49063242121      75634                     2798       2436   \n13           55729880187      92768                     4648       2767   \n14           24914298181      41727                     1349       1237   \n15           23403730119      36220                     1858       1162   \n16           20785412744      32503                     2124       1032   \n17           47310983288      74327                     3217       2349   \n18           20765271851      32639                     1472       1031   \n19           25518524833      38839                     1397       1267   \n\n            d_global_item_id  d_person_id  d_promotion_id  d_currency_id  \\\nd_store_id                                                                 \n1                 2374714752       225715           41108         123324   \n2                 1299967612       446414           25467          76401   \n3                  142556110       126241            3169           9507   \n4                   68276957       186380            1754           5262   \n5                   75445623         1787            1787           5361   \n7                  117803918        64454            2906           8718   \n8                   37205898         1345            1345           4035   \n9                  114400152       145981            2350           7050   \n10                 207514522       373757            4397          13191   \n11                 132764762         2436            2436           7308   \n12                 115911999         2497            2436           7308   \n13                  97926512       721028            2767           8301   \n14                  54813990         1257            1237           3711   \n15                  44843389       124438            1162           3486   \n16                  47461906       134600            1032           3096   \n17                 103940532       146199            2349           7047   \n18                  39303047        72963            1031           3093   \n19                  62287850        21823            1267           3801   \n\n            d_item_group_id   bon_id_int  ...  items_count  card_items_count  \\\nd_store_id                                ...                                  \n1                         0  23266665484  ...        55735                34   \n2                         0  16442296245  ...        35386                90   \n3                         0   1346640219  ...         3604                 8   \n4                         0    775263757  ...         2334                17   \n5                         0    808930226  ...         1908                 0   \n7                         0   1698997693  ...         3382                 3   \n8                         0   1028766906  ...         1729                 0   \n9                         0   1821213976  ...         2716                14   \n10                        0   3488242745  ...         5020                26   \n11                        0   1992975409  ...         2756                 0   \n12                        0   1913067544  ...         2808                16   \n13                        0   1867102463  ...         3366                66   \n14                        0    845913892  ...         1428                 2   \n15                        0    804779434  ...         1386                24   \n16                        0    722889582  ...         1280                75   \n17                        0   1669004779  ...         2775                29   \n18                        0    744307025  ...         1292                10   \n19                        0    924726674  ...         1552                 4   \n\n            card_quantity  card_sales_amount  card_discount_amount  \\\nd_store_id                                                           \n1                     0.0           0.000000              0.000000   \n2                     0.0           0.000000              0.000000   \n3                     4.0           7.238385              0.630302   \n4                     3.0          10.696969              0.000000   \n5                     0.0           0.000000              0.000000   \n7                     3.0          10.696969              0.000000   \n8                     0.0           0.000000              0.000000   \n9                     1.5           1.782829              0.136363   \n10                    8.8          26.808081              1.537373   \n11                    0.0           0.000000              0.000000   \n12                    2.0           2.020202              0.000000   \n13                   16.2          11.597980              0.000000   \n14                    2.0           4.445455              0.493939   \n15                    0.0           0.000000              0.000000   \n16                   19.6          26.150507              0.000000   \n17                    1.0           5.318182              0.590909   \n18                    2.2           4.014141              0.064647   \n19                    0.0           0.000000              0.000000   \n\n            promotion_items_count  promotion_quantity  promotion_sales_amount  \\\nd_store_id                                                                      \n1                               0                   0                       0   \n2                               0                   0                       0   \n3                               0                   0                       0   \n4                               0                   0                       0   \n5                               0                   0                       0   \n7                               0                   0                       0   \n8                               0                   0                       0   \n9                               0                   0                       0   \n10                              0                   0                       0   \n11                              0                   0                       0   \n12                              0                   0                       0   \n13                              0                   0                       0   \n14                              0                   0                       0   \n15                              0                   0                       0   \n16                              0                   0                       0   \n17                              0                   0                       0   \n18                              0                   0                       0   \n19                              0                   0                       0   \n\n            promotion_discount_amount       price_w  \nd_store_id                                           \n1                                   0  99938.193757  \n2                                   0  62543.637005  \n3                                   0   6289.416170  \n4                                   0   3624.714043  \n5                                   0   3359.143379  \n7                                   0   5756.054586  \n8                                   0   2732.531295  \n9                                   0   4439.215999  \n10                                  0   8349.036449  \n11                                  0   3788.907027  \n12                                  0   4619.036437  \n13                                  0   5964.033403  \n14                                  0   2065.467639  \n15                                  0   2353.531346  \n16                                  0   1779.244406  \n17                                  0   4323.475813  \n18                                  0   2215.474781  \n19                                  0   2169.147435  \n\n[18 rows x 28 columns]",
      "text/html": "<div>\n<style scoped>\n    .dataframe tbody tr th:only-of-type {\n        vertical-align: middle;\n    }\n\n    .dataframe tbody tr th {\n        vertical-align: top;\n    }\n\n    .dataframe thead th {\n        text-align: right;\n    }\n</style>\n<table border=\"1\" class=\"dataframe\">\n  <thead>\n    <tr style=\"text-align: right;\">\n      <th></th>\n      <th>d_date_id</th>\n      <th>d_time_id</th>\n      <th>d_loyalty_instrument_id</th>\n      <th>d_item_id</th>\n      <th>d_global_item_id</th>\n      <th>d_person_id</th>\n      <th>d_promotion_id</th>\n      <th>d_currency_id</th>\n      <th>d_item_group_id</th>\n      <th>bon_id_int</th>\n      <th>...</th>\n      <th>items_count</th>\n      <th>card_items_count</th>\n      <th>card_quantity</th>\n      <th>card_sales_amount</th>\n      <th>card_discount_amount</th>\n      <th>promotion_items_count</th>\n      <th>promotion_quantity</th>\n      <th>promotion_sales_amount</th>\n      <th>promotion_discount_amount</th>\n      <th>price_w</th>\n    </tr>\n    <tr>\n      <th>d_store_id</th>\n      <th></th>\n      <th></th>\n      <th></th>\n      <th></th>\n      <th></th>\n      <th></th>\n      <th></th>\n      <th></th>\n      <th></th>\n      <th></th>\n      <th></th>\n      <th></th>\n      <th></th>\n      <th></th>\n      <th></th>\n      <th></th>\n      <th></th>\n      <th></th>\n      <th></th>\n      <th></th>\n      <th></th>\n    </tr>\n  </thead>\n  <tbody>\n    <tr>\n      <th>1</th>\n      <td>827952299750</td>\n      <td>1391057</td>\n      <td>41254</td>\n      <td>41108</td>\n      <td>2374714752</td>\n      <td>225715</td>\n      <td>41108</td>\n      <td>123324</td>\n      <td>0</td>\n      <td>23266665484</td>\n      <td>...</td>\n      <td>55735</td>\n      <td>34</td>\n      <td>0.0</td>\n      <td>0.000000</td>\n      <td>0.000000</td>\n      <td>0</td>\n      <td>0</td>\n      <td>0</td>\n      <td>0</td>\n      <td>99938.193757</td>\n    </tr>\n    <tr>\n      <th>2</th>\n      <td>512928413453</td>\n      <td>849323</td>\n      <td>26738</td>\n      <td>25467</td>\n      <td>1299967612</td>\n      <td>446414</td>\n      <td>25467</td>\n      <td>76401</td>\n      <td>0</td>\n      <td>16442296245</td>\n      <td>...</td>\n      <td>35386</td>\n      <td>90</td>\n      <td>0.0</td>\n      <td>0.000000</td>\n      <td>0.000000</td>\n      <td>0</td>\n      <td>0</td>\n      <td>0</td>\n      <td>0</td>\n      <td>62543.637005</td>\n    </tr>\n    <tr>\n      <th>3</th>\n      <td>63826524242</td>\n      <td>100779</td>\n      <td>3367</td>\n      <td>3169</td>\n      <td>142556110</td>\n      <td>126241</td>\n      <td>3169</td>\n      <td>9507</td>\n      <td>0</td>\n      <td>1346640219</td>\n      <td>...</td>\n      <td>3604</td>\n      <td>8</td>\n      <td>4.0</td>\n      <td>7.238385</td>\n      <td>0.630302</td>\n      <td>0</td>\n      <td>0</td>\n      <td>0</td>\n      <td>0</td>\n      <td>6289.416170</td>\n    </tr>\n    <tr>\n      <th>4</th>\n      <td>35327144938</td>\n      <td>54913</td>\n      <td>2069</td>\n      <td>1754</td>\n      <td>68276957</td>\n      <td>186380</td>\n      <td>1754</td>\n      <td>5262</td>\n      <td>0</td>\n      <td>775263757</td>\n      <td>...</td>\n      <td>2334</td>\n      <td>17</td>\n      <td>3.0</td>\n      <td>10.696969</td>\n      <td>0.000000</td>\n      <td>0</td>\n      <td>0</td>\n      <td>0</td>\n      <td>0</td>\n      <td>3624.714043</td>\n    </tr>\n    <tr>\n      <th>5</th>\n      <td>35991794959</td>\n      <td>57290</td>\n      <td>1787</td>\n      <td>1787</td>\n      <td>75445623</td>\n      <td>1787</td>\n      <td>1787</td>\n      <td>5361</td>\n      <td>0</td>\n      <td>808930226</td>\n      <td>...</td>\n      <td>1908</td>\n      <td>0</td>\n      <td>0.0</td>\n      <td>0.000000</td>\n      <td>0.000000</td>\n      <td>0</td>\n      <td>0</td>\n      <td>0</td>\n      <td>0</td>\n      <td>3359.143379</td>\n    </tr>\n    <tr>\n      <th>7</th>\n      <td>58529466819</td>\n      <td>93661</td>\n      <td>3029</td>\n      <td>2906</td>\n      <td>117803918</td>\n      <td>64454</td>\n      <td>2906</td>\n      <td>8718</td>\n      <td>0</td>\n      <td>1698997693</td>\n      <td>...</td>\n      <td>3382</td>\n      <td>3</td>\n      <td>3.0</td>\n      <td>10.696969</td>\n      <td>0.000000</td>\n      <td>0</td>\n      <td>0</td>\n      <td>0</td>\n      <td>0</td>\n      <td>5756.054586</td>\n    </tr>\n    <tr>\n      <th>8</th>\n      <td>27089516059</td>\n      <td>43346</td>\n      <td>1345</td>\n      <td>1345</td>\n      <td>37205898</td>\n      <td>1345</td>\n      <td>1345</td>\n      <td>4035</td>\n      <td>0</td>\n      <td>1028766906</td>\n      <td>...</td>\n      <td>1729</td>\n      <td>0</td>\n      <td>0.0</td>\n      <td>0.000000</td>\n      <td>0.000000</td>\n      <td>0</td>\n      <td>0</td>\n      <td>0</td>\n      <td>0</td>\n      <td>2732.531295</td>\n    </tr>\n    <tr>\n      <th>9</th>\n      <td>47331123671</td>\n      <td>76085</td>\n      <td>2670</td>\n      <td>2350</td>\n      <td>114400152</td>\n      <td>145981</td>\n      <td>2350</td>\n      <td>7050</td>\n      <td>0</td>\n      <td>1821213976</td>\n      <td>...</td>\n      <td>2716</td>\n      <td>14</td>\n      <td>1.5</td>\n      <td>1.782829</td>\n      <td>0.136363</td>\n      <td>0</td>\n      <td>0</td>\n      <td>0</td>\n      <td>0</td>\n      <td>4439.215999</td>\n    </tr>\n    <tr>\n      <th>10</th>\n      <td>88559554380</td>\n      <td>138748</td>\n      <td>5261</td>\n      <td>4397</td>\n      <td>207514522</td>\n      <td>373757</td>\n      <td>4397</td>\n      <td>13191</td>\n      <td>0</td>\n      <td>3488242745</td>\n      <td>...</td>\n      <td>5020</td>\n      <td>26</td>\n      <td>8.8</td>\n      <td>26.808081</td>\n      <td>1.537373</td>\n      <td>0</td>\n      <td>0</td>\n      <td>0</td>\n      <td>0</td>\n      <td>8349.036449</td>\n    </tr>\n    <tr>\n      <th>11</th>\n      <td>49063240772</td>\n      <td>77053</td>\n      <td>2436</td>\n      <td>2436</td>\n      <td>132764762</td>\n      <td>2436</td>\n      <td>2436</td>\n      <td>7308</td>\n      <td>0</td>\n      <td>1992975409</td>\n      <td>...</td>\n      <td>2756</td>\n      <td>0</td>\n      <td>0.0</td>\n      <td>0.000000</td>\n      <td>0.000000</td>\n      <td>0</td>\n      <td>0</td>\n      <td>0</td>\n      <td>0</td>\n      <td>3788.907027</td>\n    </tr>\n    <tr>\n      <th>12</th>\n      <td>49063242121</td>\n      <td>75634</td>\n      <td>2798</td>\n      <td>2436</td>\n      <td>115911999</td>\n      <td>2497</td>\n      <td>2436</td>\n      <td>7308</td>\n      <td>0</td>\n      <td>1913067544</td>\n      <td>...</td>\n      <td>2808</td>\n      <td>16</td>\n      <td>2.0</td>\n      <td>2.020202</td>\n      <td>0.000000</td>\n      <td>0</td>\n      <td>0</td>\n      <td>0</td>\n      <td>0</td>\n      <td>4619.036437</td>\n    </tr>\n    <tr>\n      <th>13</th>\n      <td>55729880187</td>\n      <td>92768</td>\n      <td>4648</td>\n      <td>2767</td>\n      <td>97926512</td>\n      <td>721028</td>\n      <td>2767</td>\n      <td>8301</td>\n      <td>0</td>\n      <td>1867102463</td>\n      <td>...</td>\n      <td>3366</td>\n      <td>66</td>\n      <td>16.2</td>\n      <td>11.597980</td>\n      <td>0.000000</td>\n      <td>0</td>\n      <td>0</td>\n      <td>0</td>\n      <td>0</td>\n      <td>5964.033403</td>\n    </tr>\n    <tr>\n      <th>14</th>\n      <td>24914298181</td>\n      <td>41727</td>\n      <td>1349</td>\n      <td>1237</td>\n      <td>54813990</td>\n      <td>1257</td>\n      <td>1237</td>\n      <td>3711</td>\n      <td>0</td>\n      <td>845913892</td>\n      <td>...</td>\n      <td>1428</td>\n      <td>2</td>\n      <td>2.0</td>\n      <td>4.445455</td>\n      <td>0.493939</td>\n      <td>0</td>\n      <td>0</td>\n      <td>0</td>\n      <td>0</td>\n      <td>2065.467639</td>\n    </tr>\n    <tr>\n      <th>15</th>\n      <td>23403730119</td>\n      <td>36220</td>\n      <td>1858</td>\n      <td>1162</td>\n      <td>44843389</td>\n      <td>124438</td>\n      <td>1162</td>\n      <td>3486</td>\n      <td>0</td>\n      <td>804779434</td>\n      <td>...</td>\n      <td>1386</td>\n      <td>24</td>\n      <td>0.0</td>\n      <td>0.000000</td>\n      <td>0.000000</td>\n      <td>0</td>\n      <td>0</td>\n      <td>0</td>\n      <td>0</td>\n      <td>2353.531346</td>\n    </tr>\n    <tr>\n      <th>16</th>\n      <td>20785412744</td>\n      <td>32503</td>\n      <td>2124</td>\n      <td>1032</td>\n      <td>47461906</td>\n      <td>134600</td>\n      <td>1032</td>\n      <td>3096</td>\n      <td>0</td>\n      <td>722889582</td>\n      <td>...</td>\n      <td>1280</td>\n      <td>75</td>\n      <td>19.6</td>\n      <td>26.150507</td>\n      <td>0.000000</td>\n      <td>0</td>\n      <td>0</td>\n      <td>0</td>\n      <td>0</td>\n      <td>1779.244406</td>\n    </tr>\n    <tr>\n      <th>17</th>\n      <td>47310983288</td>\n      <td>74327</td>\n      <td>3217</td>\n      <td>2349</td>\n      <td>103940532</td>\n      <td>146199</td>\n      <td>2349</td>\n      <td>7047</td>\n      <td>0</td>\n      <td>1669004779</td>\n      <td>...</td>\n      <td>2775</td>\n      <td>29</td>\n      <td>1.0</td>\n      <td>5.318182</td>\n      <td>0.590909</td>\n      <td>0</td>\n      <td>0</td>\n      <td>0</td>\n      <td>0</td>\n      <td>4323.475813</td>\n    </tr>\n    <tr>\n      <th>18</th>\n      <td>20765271851</td>\n      <td>32639</td>\n      <td>1472</td>\n      <td>1031</td>\n      <td>39303047</td>\n      <td>72963</td>\n      <td>1031</td>\n      <td>3093</td>\n      <td>0</td>\n      <td>744307025</td>\n      <td>...</td>\n      <td>1292</td>\n      <td>10</td>\n      <td>2.2</td>\n      <td>4.014141</td>\n      <td>0.064647</td>\n      <td>0</td>\n      <td>0</td>\n      <td>0</td>\n      <td>0</td>\n      <td>2215.474781</td>\n    </tr>\n    <tr>\n      <th>19</th>\n      <td>25518524833</td>\n      <td>38839</td>\n      <td>1397</td>\n      <td>1267</td>\n      <td>62287850</td>\n      <td>21823</td>\n      <td>1267</td>\n      <td>3801</td>\n      <td>0</td>\n      <td>924726674</td>\n      <td>...</td>\n      <td>1552</td>\n      <td>4</td>\n      <td>0.0</td>\n      <td>0.000000</td>\n      <td>0.000000</td>\n      <td>0</td>\n      <td>0</td>\n      <td>0</td>\n      <td>0</td>\n      <td>2169.147435</td>\n    </tr>\n  </tbody>\n</table>\n<p>18 rows × 28 columns</p>\n</div>"
     },
     "execution_count": 6,
     "metadata": {},
     "output_type": "execute_result"
    }
   ],
   "source": [
    "df_grouped_store = df_task1.groupby('d_store_id').sum()\n",
    "df_grouped_store"
   ],
   "metadata": {
    "collapsed": false,
    "pycharm": {
     "name": "#%%\n"
    }
   }
  },
  {
   "cell_type": "code",
   "execution_count": 8,
   "outputs": [
    {
     "data": {
      "text/plain": "<Figure size 432x288 with 1 Axes>",
      "image/png": "[encoded data removed]"
     },
     "metadata": {
      "needs_background": "light"
     },
     "output_type": "display_data"
    }
   ],
   "source": [
    "fig = plt.figure()\n",
    "ax = fig.add_axes([0,0,1,1])\n",
    "plt.title(\"Comparison of stores Sales ammount\")\n",
    "ax.bar(tick_label =df_grouped_store.index, height = df_grouped_store[\"sales_amount\"], x= np.arange(len(df_grouped_store.index.tolist())) , color = \"blue\", label= \"sales_amount\")\n",
    "plt.show()"
   ],
   "metadata": {
    "collapsed": false,
    "pycharm": {
     "name": "#%%\n"
    }
   }
  },
  {
   "cell_type": "markdown",
   "source": [
    "assumption: turnover = sales_amount -> The store number 1 has the highest turnover."
   ],
   "metadata": {
    "collapsed": false,
    "pycharm": {
     "name": "#%% md\n"
    }
   }
  },
  {
   "cell_type": "markdown",
   "source": [
    "### Second, please identify and present in sensible and convenient manner which combination of 3 items is the most frequently appearing in a single transaction (a transaction is indicated by bon_id_int)."
   ],
   "metadata": {
    "collapsed": false,
    "pycharm": {
     "name": "#%% md\n"
    }
   }
  },
  {
   "cell_type": "code",
   "execution_count": 24,
   "outputs": [
    {
     "ename": "KeyboardInterrupt",
     "evalue": "",
     "output_type": "error",
     "traceback": [
      "\u001B[1;31m---------------------------------------------------------------------------\u001B[0m",
      "\u001B[1;31mKeyboardInterrupt\u001B[0m                         Traceback (most recent call last)",
      "Input \u001B[1;32mIn [24]\u001B[0m, in \u001B[0;36m<cell line: 9>\u001B[1;34m()\u001B[0m\n\u001B[0;32m      9\u001B[0m \u001B[38;5;28;01mfor\u001B[39;00m d_item_id,bon_id_int \u001B[38;5;129;01min\u001B[39;00m \u001B[38;5;28mzip\u001B[39m(df_task1[\u001B[38;5;124m\"\u001B[39m\u001B[38;5;124md_global_item_id\u001B[39m\u001B[38;5;124m\"\u001B[39m],df_task1[\u001B[38;5;124m\"\u001B[39m\u001B[38;5;124mbon_id_int\u001B[39m\u001B[38;5;124m\"\u001B[39m]):\n\u001B[0;32m     10\u001B[0m     \u001B[38;5;28;01mfor\u001B[39;00m bon_id_int_unique \u001B[38;5;129;01min\u001B[39;00m df_unique_grid\u001B[38;5;241m.\u001B[39mcolumns:\n\u001B[1;32m---> 11\u001B[0m         \u001B[38;5;28;01mfor\u001B[39;00m d_item_id_unique \u001B[38;5;129;01min\u001B[39;00m df_unique_grid\u001B[38;5;241m.\u001B[39mindex:\n\u001B[0;32m     12\u001B[0m             \u001B[38;5;28;01mif\u001B[39;00m d_item_id \u001B[38;5;241m==\u001B[39m d_item_id_unique \u001B[38;5;129;01mand\u001B[39;00m bon_id_int \u001B[38;5;241m==\u001B[39m bon_id_int_unique:\n\u001B[0;32m     13\u001B[0m                 df_unique_grid[bon_id_int_unique]\u001B[38;5;241m.\u001B[39mloc[d_item_id_unique] \u001B[38;5;241m=\u001B[39m\u001B[38;5;241m+\u001B[39m\u001B[38;5;241m1\u001B[39m\n",
      "\u001B[1;31mKeyboardInterrupt\u001B[0m: "
     ]
    }
   ],
   "source": [
    "df_bon_id_int_d_item_id = pd.DataFrame()\n",
    "\n",
    "lst_unique_bon_id = list(set(df_task1[\"bon_id_int\"].tolist()))\n",
    "lst_unique_item_id = list(set(df_task1[\"d_global_item_id\"].tolist()))\n",
    "\n",
    "df_unique_grid = pd.DataFrame(np.zeros((len(lst_unique_item_id), len(lst_unique_bon_id))), index = lst_unique_item_id, columns =lst_unique_bon_id )\n",
    "\n",
    "for d_item_id,bon_id_int in zip(df_task1[\"d_global_item_id\"],df_task1[\"bon_id_int\"]):\n",
    "    for bon_id_int_unique in df_unique_grid.columns:\n",
    "        for d_item_id_unique in df_unique_grid.index:\n",
    "            if d_item_id == d_item_id_unique and bon_id_int == bon_id_int_unique:\n",
    "                df_unique_grid[bon_id_int_unique].loc[d_item_id_unique] =+1\n",
    "\n",
    "print(df_unique_grid)"
   ],
   "metadata": {
    "collapsed": false,
    "pycharm": {
     "name": "#%%\n"
    }
   }
  },
  {
   "cell_type": "markdown",
   "source": [
    "The code above creates a grid of zeros with the col_names = bon_id_int, and index = d_global_item_id.\n",
    "As a second step it updates each value in the grid by 1 if there was a match between bon_id_int and d_global_item_id.\n",
    "It was discovered that it takes quite a while to execute."
   ],
   "metadata": {
    "collapsed": false,
    "pycharm": {
     "name": "#%% md\n"
    }
   }
  },
  {
   "cell_type": "markdown",
   "source": [
    "## Third, please compute whether buying item with d_global_item_id = 115677 makes it more probable to also buy item 84872, please write your arguments, as well."
   ],
   "metadata": {
    "collapsed": false,
    "pycharm": {
     "name": "#%% md\n"
    }
   }
  },
  {
   "cell_type": "code",
   "execution_count": 37,
   "outputs": [
    {
     "name": "stdout",
     "output_type": "stream",
     "text": [
      "Number of times d_global_item_id = 84872 and 115677 per transaction:  1\n",
      "Number of times d_global_item_id =  115677:  1110\n",
      "Number of times d_global_item_id =  84872:  1380\n"
     ]
    }
   ],
   "source": [
    "count = 0\n",
    "df_d_global_item_id1 = df_task1.where(df_task1[\"d_global_item_id\"]== 115677).dropna()\n",
    "df_d_global_item_id2 = df_task1.where(df_task1[\"d_global_item_id\"]== 84872).dropna()\n",
    "df_d_global_item_id1\n",
    "\n",
    "for bon_id_int1 in df_d_global_item_id1[\"bon_id_int\"]:\n",
    "    for bon_id_int2 in df_d_global_item_id2[\"bon_id_int\"]:\n",
    "        if bon_id_int1 == bon_id_int2:\n",
    "            count =+1\n",
    "print(\"Number of times d_global_item_id = 84872 and 115677 per transaction: \",count)\n",
    "print(\"Number of times d_global_item_id =  115677: \",df_d_global_item_id1.size)\n",
    "print(\"Number of times d_global_item_id =  84872: \",df_d_global_item_id2.size)"
   ],
   "metadata": {
    "collapsed": false,
    "pycharm": {
     "name": "#%%\n"
    }
   }
  },
  {
   "cell_type": "markdown",
   "source": [
    "As one can see that there were 1110 times where d_global_item_id was = 115677 and were 1380 times where d_global_item_id was = 84872.\n",
    "And there was only 1 time where both of them together where bought in the same transaction. So the probability seem to be very low."
   ],
   "metadata": {
    "collapsed": false,
    "pycharm": {
     "name": "#%% md\n"
    }
   }
  },
  {
   "cell_type": "markdown",
   "metadata": {},
   "source": [
    "## Task 2 - Data Wrangling"
   ]
  },
  {
   "cell_type": "markdown",
   "metadata": {},
   "source": [
    "You are provided with extracts from two datasets in `data_task2_extract_1.csv` and `data_task2_extract_2.csv`, containing company information. \n",
    "\n",
    "The first dataset has standardized publically available information obtained via web scrapping, the second dataset contains confidential internal company information. \n",
    "\n",
    "In full, the datasets contain tens of thousands of observations so manual processing is not feasible. The task at hand is to match the data items between the two datasets as best as possible. The primary matching criteria is Address (identified by fields **Address Name**, **City** and **PostCode**). However, address fields are often inputted by humans, thus conventions vary widely. \n",
    "\n",
    "Please prepare an automated approach for canonicalization. Your code should handle discrepancies such as representing *Strasse* in full or shortened (*Str.*). The algorithm need not handle for all possible discrepancies, as this is hard to implement without the full data, description of an iterative procedure is sufficient.\n",
    "\n",
    "**Bonus** - One company might appear with different addresses. Imagine the company building / offices are at an intersection and the company records contain registration on each of the two intersecting streets, i.e. addresses are different. Please formulate an approach to handle for such cases. Sample implementation will yield more points."
   ]
  },
  {
   "cell_type": "code",
   "execution_count": 39,
   "outputs": [
    {
     "name": "stdout",
     "output_type": "stream",
     "text": [
      "                      Company.Name                 Address             City  \\\n",
      "0                     Carsten Helm             Ulmenstr. 8           Wismar   \n",
      "1   Zirpel & Pautzsch Ingenieur Pa        Paditzer Str. 33        Altenburg   \n",
      "2                  Eberhard Zessin       Steingartenweg 12       Heidelberg   \n",
      "3                     Gerold Fuchs              Mühlweg 12        Dietingen   \n",
      "4                  Rudi Biedritzky      Zaisentalstr. 70/1       Reutlingen   \n",
      "5                   Wolfgang Jäger           Wiesenstr. 11           Rodgau   \n",
      "6                    Mario Tsiknas              Am Delf 31  Bad Zwischenahn   \n",
      "7   Matthias Essers GmbH Elektrote   Leopold-Hoesch-Str. 4    Geilenkirchen   \n",
      "8                    Andre Hanisch       Im Kressgraben 18   Untereisesheim   \n",
      "9                      Paul Strigl  Thomas-Schwarz-Str. 26           Dachau   \n",
      "10                   Stefan Magerl           Schauerweg 27            Lorch   \n",
      "\n",
      "   Postcode  \n",
      "0     23966  \n",
      "1      4600  \n",
      "2     69118  \n",
      "3     78661  \n",
      "4     72760  \n",
      "5     63110  \n",
      "6     26160  \n",
      "7     52511  \n",
      "8     74257  \n",
      "9     85221  \n",
      "10    65391  \n",
      "                                          Address Postal.Code  \\\n",
      "0                            Alfons-Müller-Platz        50389   \n",
      "1                                   Hauptstr. 10B       66459   \n",
      "2                                   Edisonstr. 36       04435   \n",
      "3   Kutterstr. 3 / 26386 Wilhelmshaven-Rüstersiel       26386   \n",
      "4                                Am neuen Markt 8       66877   \n",
      "5                                   Rübenkamp 226       22307   \n",
      "6                            Geisenheimer Str. 10       65197   \n",
      "7                                  Rathausplatz 1       30823   \n",
      "8                          Weilimdorfer Str. 74 2       70839   \n",
      "9                                      Werkstr. 1       24837   \n",
      "10                             Auf Den Steinen 20       06507   \n",
      "\n",
      "               Location  \n",
      "0             Wesseling  \n",
      "1                Kirkel  \n",
      "2            Schkeuditz  \n",
      "3         Wilhelmshaven  \n",
      "4   Ramstein-Miesenbach  \n",
      "5               Hamburg  \n",
      "6             Wiesbaden  \n",
      "7               Garbsen  \n",
      "8             Gerlingen  \n",
      "9             Schleswig  \n",
      "10             Gernrode  \n"
     ]
    }
   ],
   "source": [
    "df_task2_extract1 = pd.read_csv(os.path.join(basepath, \"Medium\", \"Data\", \"data_task2_extract_1.csv\"), sep=\",\")\n",
    "df_task2_extract2 = pd.read_csv(os.path.join(basepath, \"Medium\", \"Data\", \"data_task2_extract_2.csv\"), sep=\",\")\n",
    "print(df_task2_extract1.loc[:10])\n",
    "print(df_task2_extract2.loc[:10])"
   ],
   "metadata": {
    "collapsed": false,
    "pycharm": {
     "name": "#%%\n"
    }
   }
  },
  {
   "cell_type": "markdown",
   "source": [
    "My understanding of this task is to match the company Names of the webscraped list to the internal list."
   ],
   "metadata": {
    "collapsed": false,
    "pycharm": {
     "name": "#%% md\n"
    }
   }
  },
  {
   "cell_type": "code",
   "execution_count": null,
   "outputs": [],
   "source": [],
   "metadata": {
    "collapsed": false,
    "pycharm": {
     "name": "#%%\n"
    }
   }
  },
  {
   "cell_type": "markdown",
   "metadata": {},
   "source": [
    "## Task 3 - Data  Modelling"
   ]
  },
  {
   "cell_type": "markdown",
   "metadata": {},
   "source": [
    "You are provided with a small-scale survey data investigating grocery purchasing behaviour and habits of Croatians. First, please review the enclosed pdf file. This is the survey questionnaire describing all key information on how data had been gathered and each interview conducted.\n",
    "\n",
    "The task at hand is to cluster the respondents in relatively homogenous groups. Start with all informative variables in the dataset. If you deem it necessary, you may create any number of additional derivative variables or include of publically available data. In case, your classification is based on specific subset of variables, please clearly describe why and how you have arrived at precisely this subset.\n",
    "\n",
    "Write up: as clearly as possible please describe the procedure you have applied, the results and the insights you would draw from the segmentation. Parameter selection must be justified. The write-up should not exceed one page, 1.5-spaced, Arial, 12pts, standard margins."
   ]
  }
 ],
 "metadata": {
  "kernelspec": {
   "display_name": "Python 3",
   "language": "python",
   "name": "python3"
  },
  "language_info": {
   "codemirror_mode": {
    "name": "ipython",
    "version": 3
   },
   "file_extension": ".py",
   "mimetype": "text/x-python",
   "name": "python",
   "nbconvert_exporter": "python",
   "pygments_lexer": "ipython3",
   "version": "3.7.4"
  }
 },
 "nbformat": 4,
 "nbformat_minor": 4
}