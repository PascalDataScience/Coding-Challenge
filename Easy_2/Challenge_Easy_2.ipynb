{
 "cells": [
  {
   "cell_type": "markdown",
   "metadata": {},
   "source": [
    "# Data Scientist Take-home Challenge"
   ]
  },
  {
   "cell_type": "markdown",
   "metadata": {},
   "source": [
    "You are given 2 input files - **data.csv** and **target.csv**. Each row in `data.csv` belongs to a *measurement* and each column represents a feature. For each row in `data.csv` you have  a corresponding class label in `target.csv`. You can consider the row-numbers as keys.\n",
    "\n",
    "Your submission will be judged on a compound evaluation of your approach, code quality and results. Note that for open-ended tasks we give much more weight to a well-justified approach, rather than to complete results."
   ]
  },
  {
   "cell_type": "markdown",
   "metadata": {},
   "source": [
    "# Task 1"
   ]
  },
  {
   "cell_type": "markdown",
   "metadata": {},
   "source": [
    "Define a set of possible classifiers and show which one performs best. Watch out not to overfit. "
   ]
  },
  {
   "cell_type": "markdown",
   "source": [
    "### import libs"
   ],
   "metadata": {
    "collapsed": false,
    "pycharm": {
     "name": "#%% md\n"
    }
   },
   "outputs": [],
   "execution_count": 1
  },
  {
   "cell_type": "code",
   "execution_count": 54,
   "outputs": [],
   "source": [
    "import pandas as pd\n",
    "from numpy import load\n",
    "import os\n",
    "import numpy as np\n",
    "import tensorflow as tf\n",
    "import cv2\n",
    "import numpy as np\n",
    "import os\n",
    "from datetime import datetime\n",
    "\n",
    "# Import libraries and classes required for this example:\n",
    "from sklearn.model_selection import train_test_split\n",
    "from sklearn.preprocessing import StandardScaler\n",
    "from sklearn.neighbors import KNeighborsClassifier\n",
    "from sklearn.metrics import classification_report, confusion_matrix\n",
    "import pandas as pd\n",
    "from sklearn.naive_bayes import GaussianNB\n",
    "from sklearn.metrics import accuracy_score\n",
    "import matplotlib.pyplot as plt\n",
    "\n"
   ],
   "metadata": {
    "collapsed": false,
    "pycharm": {
     "name": "#%%\n"
    }
   }
  },
  {
   "cell_type": "markdown",
   "source": [
    "### set project basepath"
   ],
   "metadata": {
    "collapsed": false,
    "pycharm": {
     "name": "#%% md\n"
    }
   }
  },
  {
   "cell_type": "code",
   "execution_count": 4,
   "outputs": [],
   "source": [
    "basepath = r\"C:\\Users\\pascs\\OneDrive\\Desktop\\Coding_Challenge\""
   ],
   "metadata": {
    "collapsed": false,
    "pycharm": {
     "name": "#%%\n"
    }
   }
  },
  {
   "cell_type": "markdown",
   "source": [
    "### read csvs"
   ],
   "metadata": {
    "collapsed": false,
    "pycharm": {
     "name": "#%% md\n"
    }
   }
  },
  {
   "cell_type": "code",
   "execution_count": 11,
   "outputs": [
    {
     "name": "stdout",
     "output_type": "stream",
     "text": [
      "     0\n",
      "0  1.0\n",
      "1  1.0\n",
      "2  0.0\n",
      "3  0.0\n",
      "4  1.0\n",
      "        0          1         2         3         4         5         6    \\\n",
      "0 -0.917557  19.607577 -0.554645 -0.070190  0.574078  1.171912 -0.016990   \n",
      "1  1.405869  21.515231 -1.511844 -0.586124  2.423895  0.775196 -0.415505   \n",
      "2 -0.389747  20.692381 -0.356724  1.210862 -0.897038  0.987663  0.131566   \n",
      "3 -0.572894  20.690381  0.529177  0.096562 -0.805788  1.265500 -1.009898   \n",
      "4 -0.009104  18.678118  0.936631  0.091671 -2.187237  1.179908 -0.711491   \n",
      "\n",
      "        7         8         9    ...       120       121       122       123  \\\n",
      "0 -0.714198 -0.018138  0.577242  ...  0.693705 -1.087513 -0.046509  0.105504   \n",
      "1 -0.671892 -0.655684  2.210577  ... -0.085963  0.072455  1.306949 -0.728437   \n",
      "2 -0.180066  0.544777 -1.064934  ... -0.816699 -1.518435 -0.630022  1.271507   \n",
      "3 -1.122972 -1.176405 -0.980322  ...  0.975383  0.085923 -0.932246  0.874500   \n",
      "4 -0.648111  0.136265  0.830598  ...  0.145059  0.290151 -1.186000 -0.984330   \n",
      "\n",
      "        124       125       126       127       128       129  \n",
      "0  0.429171 -0.950374  1.004294 -0.191608 -1.364425 -0.429213  \n",
      "1  1.185076  0.731548  0.591346 -0.273151  1.664404  0.071316  \n",
      "2  0.089942 -0.288093 -0.868709 -1.784095 -1.463095  1.788054  \n",
      "3 -0.624700 -0.463498  0.618506  0.768167 -0.873828 -0.524306  \n",
      "4  2.669586 -0.390829 -0.020659 -1.025797  0.832689 -1.996523  \n",
      "\n",
      "[5 rows x 130 columns]\n"
     ]
    }
   ],
   "source": [
    "df_data = pd.read_csv(os.path.join(basepath, \"Easy_2\", \"Data\", \"data.csv\"), header=None, sep= \" \")\n",
    "df_target = pd.read_csv(os.path.join(basepath, \"Easy_2\", \"Data\", \"target.csv\"), header=None)\n",
    "print(df_target.iloc[:5])\n",
    "print(df_data.iloc[:5])"
   ],
   "metadata": {
    "collapsed": false,
    "pycharm": {
     "name": "#%%\n"
    }
   }
  },
  {
   "cell_type": "markdown",
   "source": [
    "### Train Test Split"
   ],
   "metadata": {
    "collapsed": false,
    "pycharm": {
     "name": "#%% md\n"
    }
   }
  },
  {
   "cell_type": "code",
   "execution_count": 21,
   "outputs": [],
   "source": [
    "X = df_data\n",
    "y= df_target\n",
    "X_train, X_test, y_train, y_test = train_test_split(X, y, test_size=1 / 8, shuffle=False)"
   ],
   "metadata": {
    "collapsed": false,
    "pycharm": {
     "name": "#%%\n"
    }
   }
  },
  {
   "cell_type": "markdown",
   "source": [
    "### Standardize features by removing mean and scaling to unit variance:"
   ],
   "metadata": {
    "collapsed": false,
    "pycharm": {
     "name": "#%% md\n"
    }
   }
  },
  {
   "cell_type": "code",
   "execution_count": 24,
   "outputs": [],
   "source": [
    "scaler = StandardScaler()\n",
    "scaler.fit(X)\n",
    "X_train = scaler.transform(X_train)\n",
    "X_test = scaler.transform(X_test)"
   ],
   "metadata": {
    "collapsed": false,
    "pycharm": {
     "name": "#%%\n"
    }
   }
  },
  {
   "cell_type": "markdown",
   "source": [
    "### KNN (K-Nearest-NeighborClassifier):"
   ],
   "metadata": {
    "collapsed": false,
    "pycharm": {
     "name": "#%% md\n"
    }
   }
  },
  {
   "cell_type": "markdown",
   "source": [
    "Initilaize Classifier"
   ],
   "metadata": {
    "collapsed": false,
    "pycharm": {
     "name": "#%% md\n"
    }
   }
  },
  {
   "cell_type": "code",
   "execution_count": 30,
   "outputs": [],
   "source": [
    "classifier = KNeighborsClassifier(n_neighbors=5)"
   ],
   "metadata": {
    "collapsed": false,
    "pycharm": {
     "name": "#%%\n"
    }
   }
  },
  {
   "cell_type": "markdown",
   "source": [
    "Fit Classifier"
   ],
   "metadata": {
    "collapsed": false,
    "pycharm": {
     "name": "#%% md\n"
    }
   }
  },
  {
   "cell_type": "code",
   "execution_count": 31,
   "outputs": [
    {
     "name": "stderr",
     "output_type": "stream",
     "text": [
      "C:\\Users\\pascs\\anaconda3\\lib\\site-packages\\sklearn\\neighbors\\_classification.py:198: DataConversionWarning: A column-vector y was passed when a 1d array was expected. Please change the shape of y to (n_samples,), for example using ravel().\n",
      "  return self._fit(X, y)\n"
     ]
    },
    {
     "data": {
      "text/plain": "KNeighborsClassifier()"
     },
     "execution_count": 31,
     "metadata": {},
     "output_type": "execute_result"
    }
   ],
   "source": [
    "classifier.fit(X_train, y_train)"
   ],
   "metadata": {
    "collapsed": false,
    "pycharm": {
     "name": "#%%\n"
    }
   }
  },
  {
   "cell_type": "markdown",
   "source": [
    "Predict and print Test Report"
   ],
   "metadata": {
    "collapsed": false,
    "pycharm": {
     "name": "#%% md\n"
    }
   }
  },
  {
   "cell_type": "code",
   "execution_count": 43,
   "outputs": [
    {
     "name": "stdout",
     "output_type": "stream",
     "text": [
      "[[494 124]\n",
      " [141 491]]\n",
      "              precision    recall  f1-score   support\n",
      "\n",
      "         0.0       0.78      0.80      0.79       618\n",
      "         1.0       0.80      0.78      0.79       632\n",
      "\n",
      "    accuracy                           0.79      1250\n",
      "   macro avg       0.79      0.79      0.79      1250\n",
      "weighted avg       0.79      0.79      0.79      1250\n",
      "\n",
      "0.788\n"
     ]
    }
   ],
   "source": [
    "y_predict_KNN = classifier.predict(X_test)\n",
    "print(confusion_matrix(y_test, y_predict_KNN))\n",
    "print(classification_report(y_test, y_predict_KNN))\n",
    "print(accuracy_score(y_test, y_predict_KNN))"
   ],
   "metadata": {
    "collapsed": false,
    "pycharm": {
     "name": "#%%\n"
    }
   }
  },
  {
   "cell_type": "markdown",
   "source": [
    "### Naive Bayes Classifier"
   ],
   "metadata": {
    "collapsed": false,
    "pycharm": {
     "name": "#%% md\n"
    }
   }
  },
  {
   "cell_type": "markdown",
   "source": [
    "Initilaize Classifier"
   ],
   "metadata": {
    "collapsed": false,
    "pycharm": {
     "name": "#%% md\n"
    }
   }
  },
  {
   "cell_type": "code",
   "execution_count": 41,
   "outputs": [],
   "source": [
    "gnb = GaussianNB()"
   ],
   "metadata": {
    "collapsed": false,
    "pycharm": {
     "name": "#%%\n"
    }
   }
  },
  {
   "cell_type": "code",
   "execution_count": 42,
   "outputs": [
    {
     "name": "stdout",
     "output_type": "stream",
     "text": [
      "              precision    recall  f1-score   support\n",
      "\n",
      "         0.0       0.81      0.83      0.82       618\n",
      "         1.0       0.83      0.81      0.82       632\n",
      "\n",
      "    accuracy                           0.82      1250\n",
      "   macro avg       0.82      0.82      0.82      1250\n",
      "weighted avg       0.82      0.82      0.82      1250\n",
      "\n",
      "0.8232\n"
     ]
    },
    {
     "name": "stderr",
     "output_type": "stream",
     "text": [
      "C:\\Users\\pascs\\anaconda3\\lib\\site-packages\\sklearn\\utils\\validation.py:993: DataConversionWarning: A column-vector y was passed when a 1d array was expected. Please change the shape of y to (n_samples, ), for example using ravel().\n",
      "  y = column_or_1d(y, warn=True)\n"
     ]
    }
   ],
   "source": [
    "model = gnb.fit(X_train, y_train)\n",
    "# Make predictions with the classifier:\n",
    "y_pred_gnb = gnb.predict(X_test)\n",
    "print(classification_report(y_test, y_pred_gnb))\n",
    "print(accuracy_score(y_test, y_pred_gnb))"
   ],
   "metadata": {
    "collapsed": false,
    "pycharm": {
     "name": "#%%\n"
    }
   }
  },
  {
   "cell_type": "markdown",
   "source": [
    "### Neural Network with Tensorflow"
   ],
   "metadata": {
    "collapsed": false,
    "pycharm": {
     "name": "#%% md\n"
    }
   }
  },
  {
   "cell_type": "markdown",
   "source": [
    "Initilaize Model, compile and fit."
   ],
   "metadata": {
    "collapsed": false,
    "pycharm": {
     "name": "#%% md\n"
    }
   }
  },
  {
   "cell_type": "code",
   "execution_count": 87,
   "outputs": [
    {
     "name": "stdout",
     "output_type": "stream",
     "text": [
      "Epoch 1/20\n"
     ]
    },
    {
     "name": "stderr",
     "output_type": "stream",
     "text": [
      "C:\\Users\\pascs\\anaconda3\\lib\\site-packages\\keras\\optimizers\\optimizer_v2\\adam.py:110: UserWarning: The `lr` argument is deprecated, use `learning_rate` instead.\n",
      "  super(Adam, self).__init__(name, **kwargs)\n"
     ]
    },
    {
     "name": "stdout",
     "output_type": "stream",
     "text": [
      "274/274 [==============================] - 1s 3ms/step - loss: 0.6893 - accuracy: 0.5314 - val_loss: 0.6658 - val_accuracy: 0.6072\n",
      "Epoch 2/20\n",
      "274/274 [==============================] - 1s 2ms/step - loss: 0.6438 - accuracy: 0.6593 - val_loss: 0.6250 - val_accuracy: 0.6704\n",
      "Epoch 3/20\n",
      "274/274 [==============================] - 1s 2ms/step - loss: 0.6054 - accuracy: 0.7167 - val_loss: 0.5895 - val_accuracy: 0.7120\n",
      "Epoch 4/20\n",
      "274/274 [==============================] - 1s 2ms/step - loss: 0.5712 - accuracy: 0.7401 - val_loss: 0.5594 - val_accuracy: 0.7312\n",
      "Epoch 5/20\n",
      "274/274 [==============================] - 1s 2ms/step - loss: 0.5417 - accuracy: 0.7583 - val_loss: 0.5341 - val_accuracy: 0.7440\n",
      "Epoch 6/20\n",
      "274/274 [==============================] - 1s 2ms/step - loss: 0.5174 - accuracy: 0.7721 - val_loss: 0.5140 - val_accuracy: 0.7520\n",
      "Epoch 7/20\n",
      "274/274 [==============================] - 1s 2ms/step - loss: 0.4974 - accuracy: 0.7835 - val_loss: 0.4990 - val_accuracy: 0.7568\n",
      "Epoch 8/20\n",
      "274/274 [==============================] - 1s 2ms/step - loss: 0.4808 - accuracy: 0.7911 - val_loss: 0.4847 - val_accuracy: 0.7664\n",
      "Epoch 9/20\n",
      "274/274 [==============================] - 1s 2ms/step - loss: 0.4661 - accuracy: 0.7971 - val_loss: 0.4732 - val_accuracy: 0.7744\n",
      "Epoch 10/20\n",
      "274/274 [==============================] - 1s 2ms/step - loss: 0.4532 - accuracy: 0.8072 - val_loss: 0.4644 - val_accuracy: 0.7760\n",
      "Epoch 11/20\n",
      "274/274 [==============================] - 1s 2ms/step - loss: 0.4418 - accuracy: 0.8141 - val_loss: 0.4546 - val_accuracy: 0.7888\n",
      "Epoch 12/20\n",
      "274/274 [==============================] - 1s 2ms/step - loss: 0.4312 - accuracy: 0.8183 - val_loss: 0.4473 - val_accuracy: 0.7960\n",
      "Epoch 13/20\n",
      "274/274 [==============================] - 1s 2ms/step - loss: 0.4216 - accuracy: 0.8254 - val_loss: 0.4407 - val_accuracy: 0.7968\n",
      "Epoch 14/20\n",
      "274/274 [==============================] - 1s 2ms/step - loss: 0.4126 - accuracy: 0.8314 - val_loss: 0.4342 - val_accuracy: 0.7968\n",
      "Epoch 15/20\n",
      "274/274 [==============================] - 1s 2ms/step - loss: 0.4040 - accuracy: 0.8362 - val_loss: 0.4273 - val_accuracy: 0.8048\n",
      "Epoch 16/20\n",
      "274/274 [==============================] - 1s 2ms/step - loss: 0.3961 - accuracy: 0.8402 - val_loss: 0.4249 - val_accuracy: 0.8080\n",
      "Epoch 17/20\n",
      "274/274 [==============================] - 1s 2ms/step - loss: 0.3889 - accuracy: 0.8437 - val_loss: 0.4187 - val_accuracy: 0.8128\n",
      "Epoch 18/20\n",
      "274/274 [==============================] - 1s 2ms/step - loss: 0.3816 - accuracy: 0.8490 - val_loss: 0.4129 - val_accuracy: 0.8216\n",
      "Epoch 19/20\n",
      "274/274 [==============================] - 1s 2ms/step - loss: 0.3750 - accuracy: 0.8515 - val_loss: 0.4082 - val_accuracy: 0.8232\n",
      "Epoch 20/20\n",
      "274/274 [==============================] - 1s 2ms/step - loss: 0.3685 - accuracy: 0.8549 - val_loss: 0.4042 - val_accuracy: 0.8272\n"
     ]
    }
   ],
   "source": [
    "model_tf = tf.keras.Sequential([\n",
    "    tf.keras.layers.Dense(128, activation='relu'),\n",
    "    tf.keras.layers.Dense(256, activation='relu'),\n",
    "    tf.keras.layers.Dense(256, activation='relu'),\n",
    "    tf.keras.layers.Dense(1, activation='sigmoid')\n",
    "])\n",
    "\n",
    "model_tf.compile(\n",
    "    loss=tf.keras.losses.binary_crossentropy,\n",
    "    optimizer=tf.keras.optimizers.Adam(lr=0.00001),\n",
    "    metrics=[\n",
    "        tf.keras.metrics.BinaryAccuracy(name='accuracy'),\n",
    "    ]\n",
    ")\n",
    "history = model_tf.fit(X_train, y_train, epochs=20, validation_data =(X_test, y_test) )"
   ],
   "metadata": {
    "collapsed": false,
    "pycharm": {
     "name": "#%%\n"
    }
   }
  },
  {
   "cell_type": "code",
   "execution_count": 88,
   "outputs": [
    {
     "name": "stdout",
     "output_type": "stream",
     "text": [
      "40/40 [==============================] - 0s 1ms/step\n",
      "              precision    recall  f1-score   support\n",
      "\n",
      "         0.0       0.83      0.82      0.82       618\n",
      "         1.0       0.82      0.84      0.83       632\n",
      "\n",
      "    accuracy                           0.83      1250\n",
      "   macro avg       0.83      0.83      0.83      1250\n",
      "weighted avg       0.83      0.83      0.83      1250\n",
      "\n",
      "0.8272\n"
     ]
    }
   ],
   "source": [
    "y_pred_tf = model_tf.predict(X_test)\n",
    "y_pred_tf = [\n",
    "    1 if prob > 0.5 else 0 for prob in np.ravel(y_pred_tf)\n",
    "]\n",
    "y_pred_tf\n",
    "print(classification_report(y_test, y_pred_tf))\n",
    "print(accuracy_score(y_test, y_pred_tf))"
   ],
   "metadata": {
    "collapsed": false,
    "pycharm": {
     "name": "#%%\n"
    }
   }
  },
  {
   "cell_type": "markdown",
   "source": [
    "Plot Loss Curve NN Tensorflow"
   ],
   "metadata": {
    "collapsed": false,
    "pycharm": {
     "name": "#%% md\n"
    }
   }
  },
  {
   "cell_type": "code",
   "execution_count": 92,
   "outputs": [
    {
     "data": {
      "text/plain": "<Figure size 576x432 with 1 Axes>",
      "image/png": "[encoded data removed]"
     },
     "metadata": {
      "needs_background": "light"
     },
     "output_type": "display_data"
    }
   ],
   "source": [
    "plt.figure(figsize=[8,6])\n",
    "plt.title('Loss_NN_Tensorflow',fontsize=16)\n",
    "plt.plot(history.history['loss'],'black',linewidth=3.0)\n",
    "plt.plot(history.history['val_loss'],'black',ls = '--', linewidth=3.0)\n",
    "plt.legend(['Training loss', 'Validation Loss'],fontsize=18)\n",
    "plt.xlabel('Epochs ',fontsize=16)\n",
    "plt.ylabel('Loss',fontsize=16)\n",
    "plt.show()"
   ],
   "metadata": {
    "collapsed": false,
    "pycharm": {
     "name": "#%%\n"
    }
   }
  },
  {
   "cell_type": "markdown",
   "source": [
    "Plot Accuracy Curve NN Tensorflow"
   ],
   "metadata": {
    "collapsed": false,
    "pycharm": {
     "name": "#%% md\n"
    }
   }
  },
  {
   "cell_type": "code",
   "execution_count": 94,
   "outputs": [
    {
     "data": {
      "text/plain": "<Figure size 576x432 with 1 Axes>",
      "image/png": "[encoded data removed]"
     },
     "metadata": {
      "needs_background": "light"
     },
     "output_type": "display_data"
    }
   ],
   "source": [
    "plt.figure(figsize=[8,6])\n",
    "plt.title('Accuracy_NN_Tensorflow',fontsize=16)\n",
    "plt.plot(history.history['accuracy'],'black',linewidth=3.0)\n",
    "plt.plot(history.history['val_accuracy'],'black',ls = '--',linewidth=3.0)\n",
    "plt.legend(['Training Accuracy', 'Validation Accuracy'],fontsize=18,\n",
    "           loc = 'lower right')\n",
    "plt.xlabel('Epochs ',fontsize=16)\n",
    "plt.ylabel('Accuracy',fontsize=16)\n",
    "plt.show()"
   ],
   "metadata": {
    "collapsed": false,
    "pycharm": {
     "name": "#%%\n"
    }
   }
  },
  {
   "cell_type": "markdown",
   "source": [
    "The Accuracy of the Training and Validation set are matching. Therfore the Model doesn't overfit."
   ],
   "metadata": {
    "collapsed": false,
    "pycharm": {
     "name": "#%% md\n"
    }
   }
  },
  {
   "cell_type": "markdown",
   "source": [
    "## Comparison Accuracy of the 3 Model Approaches"
   ],
   "metadata": {
    "collapsed": false,
    "pycharm": {
     "name": "#%% md\n"
    }
   }
  },
  {
   "cell_type": "code",
   "execution_count": 89,
   "outputs": [
    {
     "name": "stdout",
     "output_type": "stream",
     "text": [
      "Accuracy K-Nearest Neighbor       :  0.788\n",
      "Accuracy Gaussian Naive Bayes     :  0.8232\n",
      "Accuracy Neural Network Tensorflow:  0.8272\n"
     ]
    }
   ],
   "source": [
    "print(\"Accuracy K-Nearest Neighbor       : \",accuracy_score(y_test, y_predict_KNN))\n",
    "print(\"Accuracy Gaussian Naive Bayes     : \",accuracy_score(y_test, y_pred_gnb))\n",
    "print(\"Accuracy Neural Network Tensorflow: \",accuracy_score(y_test, y_pred_tf))"
   ],
   "metadata": {
    "collapsed": false,
    "pycharm": {
     "name": "#%%\n"
    }
   }
  },
  {
   "cell_type": "markdown",
   "metadata": {},
   "source": [
    "# Task 2"
   ]
  },
  {
   "cell_type": "markdown",
   "metadata": {},
   "source": [
    "Try to reduce the number of features. In the dataset you have over 100 features. Find the good ones for your classifier."
   ]
  },
  {
   "cell_type": "code",
   "execution_count": 98,
   "metadata": {},
   "outputs": [
    {
     "data": {
      "text/plain": "<Figure size 432x288 with 1 Axes>",
      "image/png": "[encoded data removed]"
     },
     "metadata": {
      "needs_background": "light"
     },
     "output_type": "display_data"
    }
   ],
   "source": [
    "from xgboost import XGBClassifier, XGBRegressor\n",
    "from xgboost import plot_importance\n",
    "\n",
    "xgb = XGBClassifier(n_estimators=100)\n",
    "xgb.fit(X_train, y_train)\n",
    "plot_importance(xgb, max_num_features= 10)\n",
    "plt.show()"
   ]
  },
  {
   "cell_type": "code",
   "execution_count": null,
   "outputs": [],
   "source": [],
   "metadata": {
    "collapsed": false,
    "pycharm": {
     "name": "#%%\n"
    }
   }
  }
 ],
 "metadata": {
  "kernelspec": {
   "display_name": "Python 3",
   "language": "python",
   "name": "python3"
  },
  "language_info": {
   "codemirror_mode": {
    "name": "ipython",
    "version": 3
   },
   "file_extension": ".py",
   "mimetype": "text/x-python",
   "name": "python",
   "nbconvert_exporter": "python",
   "pygments_lexer": "ipython3",
   "version": "3.7.4"
  }
 },
 "nbformat": 4,
 "nbformat_minor": 4
}